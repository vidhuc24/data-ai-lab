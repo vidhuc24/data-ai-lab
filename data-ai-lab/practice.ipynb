{
 "cells": [
  {
   "cell_type": "code",
   "execution_count": 1,
   "id": "4425b73d-214f-4a99-adc8-00dd62b2a614",
   "metadata": {},
   "outputs": [
    {
     "name": "stdout",
     "output_type": "stream",
     "text": [
      "Hello, Python for Data Science!\n",
      "Type of message: <class 'str'>\n",
      "5\n",
      "Type of count: <class 'int'>\n",
      "3.14\n",
      "Type of pi_approx: <class 'float'>\n",
      "True\n",
      "Type of is_learning: <class 'bool'>\n"
     ]
    }
   ],
   "source": [
    "# This is a comment explaining the code below\n",
    "message = \"Hello, Python for Data Science!\" # Assigning a string to the variable 'message'\n",
    "count = 5                                 # Assigning an integer to 'count'\n",
    "pi_approx = 3.14                          # Assigning a float to 'pi_approx'\n",
    "is_learning = True                        # Assigning a boolean to 'is_learning'\n",
    "\n",
    "# Let's print the values and their types\n",
    "print(message)\n",
    "print(\"Type of message:\", type(message))\n",
    "\n",
    "print(count)\n",
    "print(\"Type of count:\", type(count))\n",
    "\n",
    "print(pi_approx)\n",
    "print(\"Type of pi_approx:\", type(pi_approx))\n",
    "\n",
    "print(is_learning)\n",
    "print(\"Type of is_learning:\", type(is_learning))"
   ]
  },
  {
   "cell_type": "code",
   "execution_count": 2,
   "id": "173cef1b",
   "metadata": {},
   "outputs": [
    {
     "name": "stdout",
     "output_type": "stream",
     "text": [
      "Addition: 13\n",
      "Division: 3.3333333333333335\n",
      "Floor Division: 3\n",
      "Remainder: 1\n",
      "Exponent: 9\n",
      "Is count equal to 5? True\n",
      "Is pi_approx not equal to 3? True\n",
      "Is count less than 10? True\n",
      "Is learning AND count > 0? True\n",
      "Is learning OR count < 3? True\n",
      "Is NOT learning? False\n"
     ]
    }
   ],
   "source": [
    "# Arithmetic Operators\n",
    "num1 = 10\n",
    "num2 = 3\n",
    "print(\"Addition:\", num1 + num2)       # Output: 13\n",
    "print(\"Division:\", num1 / num2)       # Output: 3.333...\n",
    "print(\"Floor Division:\", num1 // num2) # Output: 3\n",
    "print(\"Remainder:\", num1 % num2)      # Output: 1\n",
    "print(\"Exponent:\", num2 ** 2)         # Output: 9 (3 squared)\n",
    "\n",
    "# Comparison Operators (using count = 5, pi_approx = 3.14 from before)\n",
    "count = 5\n",
    "pi_approx = 3.14\n",
    "print(\"Is count equal to 5?\", count == 5)          # Output: True\n",
    "print(\"Is pi_approx not equal to 3?\", pi_approx != 3) # Output: True\n",
    "print(\"Is count less than 10?\", count < 10)        # Output: True\n",
    "\n",
    "# Logical Operators (using is_learning = True from before)\n",
    "is_learning = True\n",
    "print(\"Is learning AND count > 0?\", is_learning and count > 0) # Output: True (both are true)\n",
    "print(\"Is learning OR count < 3?\", is_learning or count < 3)   # Output: True (is_learning is true)\n",
    "print(\"Is NOT learning?\", not is_learning)                 # Output: False"
   ]
  },
  {
   "cell_type": "code",
   "execution_count": null,
   "id": "58c1fb19",
   "metadata": {},
   "outputs": [],
   "source": []
  }
 ],
 "metadata": {
  "kernelspec": {
   "display_name": "data-ai-lab",
   "language": "python",
   "name": "python3"
  },
  "language_info": {
   "codemirror_mode": {
    "name": "ipython",
    "version": 3
   },
   "file_extension": ".py",
   "mimetype": "text/x-python",
   "name": "python",
   "nbconvert_exporter": "python",
   "pygments_lexer": "ipython3",
   "version": "3.9.18"
  }
 },
 "nbformat": 4,
 "nbformat_minor": 5
}
